{
  "nbformat": 4,
  "nbformat_minor": 0,
  "metadata": {
    "colab": {
      "provenance": [],
      "authorship_tag": "ABX9TyOjTey/kQVi+ZoOw8sEtjXB",
      "include_colab_link": true
    },
    "kernelspec": {
      "name": "python3",
      "display_name": "Python 3"
    },
    "language_info": {
      "name": "python"
    }
  },
  "cells": [
    {
      "cell_type": "markdown",
      "metadata": {
        "id": "view-in-github",
        "colab_type": "text"
      },
      "source": [
        "<a href=\"https://colab.research.google.com/github/Swayam17o5/SCT_ML_3/blob/main/dogsCats.ipynb\" target=\"_parent\"><img src=\"https://colab.research.google.com/assets/colab-badge.svg\" alt=\"Open In Colab\"/></a>"
      ]
    },
    {
      "cell_type": "code",
      "execution_count": 1,
      "metadata": {
        "colab": {
          "base_uri": "https://localhost:8080/"
        },
        "id": "_ZFT5dl7ULsn",
        "outputId": "69330cc0-7976-464d-cca0-10fd231fbadd"
      },
      "outputs": [
        {
          "output_type": "stream",
          "name": "stdout",
          "text": [
            "Requirement already satisfied: kaggle in /usr/local/lib/python3.12/dist-packages (1.7.4.5)\n",
            "Requirement already satisfied: bleach in /usr/local/lib/python3.12/dist-packages (from kaggle) (6.2.0)\n",
            "Requirement already satisfied: certifi>=14.05.14 in /usr/local/lib/python3.12/dist-packages (from kaggle) (2025.8.3)\n",
            "Requirement already satisfied: charset-normalizer in /usr/local/lib/python3.12/dist-packages (from kaggle) (3.4.3)\n",
            "Requirement already satisfied: idna in /usr/local/lib/python3.12/dist-packages (from kaggle) (3.10)\n",
            "Requirement already satisfied: protobuf in /usr/local/lib/python3.12/dist-packages (from kaggle) (5.29.5)\n",
            "Requirement already satisfied: python-dateutil>=2.5.3 in /usr/local/lib/python3.12/dist-packages (from kaggle) (2.9.0.post0)\n",
            "Requirement already satisfied: python-slugify in /usr/local/lib/python3.12/dist-packages (from kaggle) (8.0.4)\n",
            "Requirement already satisfied: requests in /usr/local/lib/python3.12/dist-packages (from kaggle) (2.32.4)\n",
            "Requirement already satisfied: setuptools>=21.0.0 in /usr/local/lib/python3.12/dist-packages (from kaggle) (75.2.0)\n",
            "Requirement already satisfied: six>=1.10 in /usr/local/lib/python3.12/dist-packages (from kaggle) (1.17.0)\n",
            "Requirement already satisfied: text-unidecode in /usr/local/lib/python3.12/dist-packages (from kaggle) (1.3)\n",
            "Requirement already satisfied: tqdm in /usr/local/lib/python3.12/dist-packages (from kaggle) (4.67.1)\n",
            "Requirement already satisfied: urllib3>=1.15.1 in /usr/local/lib/python3.12/dist-packages (from kaggle) (2.5.0)\n",
            "Requirement already satisfied: webencodings in /usr/local/lib/python3.12/dist-packages (from kaggle) (0.5.1)\n"
          ]
        }
      ],
      "source": [
        "pip install kaggle\n"
      ]
    },
    {
      "cell_type": "code",
      "source": [
        "from google.colab import files\n",
        "uploaded = files.upload()  # Select kaggle.json file"
      ],
      "metadata": {
        "colab": {
          "base_uri": "https://localhost:8080/",
          "height": 73
        },
        "id": "PhRIlwe0UXjr",
        "outputId": "44a5de8f-4d91-42f2-f9e4-66b6a7749c2e"
      },
      "execution_count": 2,
      "outputs": [
        {
          "output_type": "display_data",
          "data": {
            "text/plain": [
              "<IPython.core.display.HTML object>"
            ],
            "text/html": [
              "\n",
              "     <input type=\"file\" id=\"files-a1e832f3-10e6-43cc-8e49-b635235f7d5a\" name=\"files[]\" multiple disabled\n",
              "        style=\"border:none\" />\n",
              "     <output id=\"result-a1e832f3-10e6-43cc-8e49-b635235f7d5a\">\n",
              "      Upload widget is only available when the cell has been executed in the\n",
              "      current browser session. Please rerun this cell to enable.\n",
              "      </output>\n",
              "      <script>// Copyright 2017 Google LLC\n",
              "//\n",
              "// Licensed under the Apache License, Version 2.0 (the \"License\");\n",
              "// you may not use this file except in compliance with the License.\n",
              "// You may obtain a copy of the License at\n",
              "//\n",
              "//      http://www.apache.org/licenses/LICENSE-2.0\n",
              "//\n",
              "// Unless required by applicable law or agreed to in writing, software\n",
              "// distributed under the License is distributed on an \"AS IS\" BASIS,\n",
              "// WITHOUT WARRANTIES OR CONDITIONS OF ANY KIND, either express or implied.\n",
              "// See the License for the specific language governing permissions and\n",
              "// limitations under the License.\n",
              "\n",
              "/**\n",
              " * @fileoverview Helpers for google.colab Python module.\n",
              " */\n",
              "(function(scope) {\n",
              "function span(text, styleAttributes = {}) {\n",
              "  const element = document.createElement('span');\n",
              "  element.textContent = text;\n",
              "  for (const key of Object.keys(styleAttributes)) {\n",
              "    element.style[key] = styleAttributes[key];\n",
              "  }\n",
              "  return element;\n",
              "}\n",
              "\n",
              "// Max number of bytes which will be uploaded at a time.\n",
              "const MAX_PAYLOAD_SIZE = 100 * 1024;\n",
              "\n",
              "function _uploadFiles(inputId, outputId) {\n",
              "  const steps = uploadFilesStep(inputId, outputId);\n",
              "  const outputElement = document.getElementById(outputId);\n",
              "  // Cache steps on the outputElement to make it available for the next call\n",
              "  // to uploadFilesContinue from Python.\n",
              "  outputElement.steps = steps;\n",
              "\n",
              "  return _uploadFilesContinue(outputId);\n",
              "}\n",
              "\n",
              "// This is roughly an async generator (not supported in the browser yet),\n",
              "// where there are multiple asynchronous steps and the Python side is going\n",
              "// to poll for completion of each step.\n",
              "// This uses a Promise to block the python side on completion of each step,\n",
              "// then passes the result of the previous step as the input to the next step.\n",
              "function _uploadFilesContinue(outputId) {\n",
              "  const outputElement = document.getElementById(outputId);\n",
              "  const steps = outputElement.steps;\n",
              "\n",
              "  const next = steps.next(outputElement.lastPromiseValue);\n",
              "  return Promise.resolve(next.value.promise).then((value) => {\n",
              "    // Cache the last promise value to make it available to the next\n",
              "    // step of the generator.\n",
              "    outputElement.lastPromiseValue = value;\n",
              "    return next.value.response;\n",
              "  });\n",
              "}\n",
              "\n",
              "/**\n",
              " * Generator function which is called between each async step of the upload\n",
              " * process.\n",
              " * @param {string} inputId Element ID of the input file picker element.\n",
              " * @param {string} outputId Element ID of the output display.\n",
              " * @return {!Iterable<!Object>} Iterable of next steps.\n",
              " */\n",
              "function* uploadFilesStep(inputId, outputId) {\n",
              "  const inputElement = document.getElementById(inputId);\n",
              "  inputElement.disabled = false;\n",
              "\n",
              "  const outputElement = document.getElementById(outputId);\n",
              "  outputElement.innerHTML = '';\n",
              "\n",
              "  const pickedPromise = new Promise((resolve) => {\n",
              "    inputElement.addEventListener('change', (e) => {\n",
              "      resolve(e.target.files);\n",
              "    });\n",
              "  });\n",
              "\n",
              "  const cancel = document.createElement('button');\n",
              "  inputElement.parentElement.appendChild(cancel);\n",
              "  cancel.textContent = 'Cancel upload';\n",
              "  const cancelPromise = new Promise((resolve) => {\n",
              "    cancel.onclick = () => {\n",
              "      resolve(null);\n",
              "    };\n",
              "  });\n",
              "\n",
              "  // Wait for the user to pick the files.\n",
              "  const files = yield {\n",
              "    promise: Promise.race([pickedPromise, cancelPromise]),\n",
              "    response: {\n",
              "      action: 'starting',\n",
              "    }\n",
              "  };\n",
              "\n",
              "  cancel.remove();\n",
              "\n",
              "  // Disable the input element since further picks are not allowed.\n",
              "  inputElement.disabled = true;\n",
              "\n",
              "  if (!files) {\n",
              "    return {\n",
              "      response: {\n",
              "        action: 'complete',\n",
              "      }\n",
              "    };\n",
              "  }\n",
              "\n",
              "  for (const file of files) {\n",
              "    const li = document.createElement('li');\n",
              "    li.append(span(file.name, {fontWeight: 'bold'}));\n",
              "    li.append(span(\n",
              "        `(${file.type || 'n/a'}) - ${file.size} bytes, ` +\n",
              "        `last modified: ${\n",
              "            file.lastModifiedDate ? file.lastModifiedDate.toLocaleDateString() :\n",
              "                                    'n/a'} - `));\n",
              "    const percent = span('0% done');\n",
              "    li.appendChild(percent);\n",
              "\n",
              "    outputElement.appendChild(li);\n",
              "\n",
              "    const fileDataPromise = new Promise((resolve) => {\n",
              "      const reader = new FileReader();\n",
              "      reader.onload = (e) => {\n",
              "        resolve(e.target.result);\n",
              "      };\n",
              "      reader.readAsArrayBuffer(file);\n",
              "    });\n",
              "    // Wait for the data to be ready.\n",
              "    let fileData = yield {\n",
              "      promise: fileDataPromise,\n",
              "      response: {\n",
              "        action: 'continue',\n",
              "      }\n",
              "    };\n",
              "\n",
              "    // Use a chunked sending to avoid message size limits. See b/62115660.\n",
              "    let position = 0;\n",
              "    do {\n",
              "      const length = Math.min(fileData.byteLength - position, MAX_PAYLOAD_SIZE);\n",
              "      const chunk = new Uint8Array(fileData, position, length);\n",
              "      position += length;\n",
              "\n",
              "      const base64 = btoa(String.fromCharCode.apply(null, chunk));\n",
              "      yield {\n",
              "        response: {\n",
              "          action: 'append',\n",
              "          file: file.name,\n",
              "          data: base64,\n",
              "        },\n",
              "      };\n",
              "\n",
              "      let percentDone = fileData.byteLength === 0 ?\n",
              "          100 :\n",
              "          Math.round((position / fileData.byteLength) * 100);\n",
              "      percent.textContent = `${percentDone}% done`;\n",
              "\n",
              "    } while (position < fileData.byteLength);\n",
              "  }\n",
              "\n",
              "  // All done.\n",
              "  yield {\n",
              "    response: {\n",
              "      action: 'complete',\n",
              "    }\n",
              "  };\n",
              "}\n",
              "\n",
              "scope.google = scope.google || {};\n",
              "scope.google.colab = scope.google.colab || {};\n",
              "scope.google.colab._files = {\n",
              "  _uploadFiles,\n",
              "  _uploadFilesContinue,\n",
              "};\n",
              "})(self);\n",
              "</script> "
            ]
          },
          "metadata": {}
        },
        {
          "output_type": "stream",
          "name": "stdout",
          "text": [
            "Saving kaggle.json to kaggle.json\n"
          ]
        }
      ]
    },
    {
      "cell_type": "code",
      "source": [],
      "metadata": {
        "id": "cx83W7PiYPlK"
      },
      "execution_count": null,
      "outputs": []
    },
    {
      "cell_type": "code",
      "metadata": {
        "id": "6993d360"
      },
      "source": [
        "import os\n",
        "import shutil\n",
        "\n",
        "# Create the .kaggle directory if it doesn't exist\n",
        "if not os.path.exists('/root/.kaggle'):\n",
        "    os.makedirs('/root/.kaggle')\n",
        "\n",
        "# Move the kaggle.json file\n",
        "shutil.move('/content/kaggle.json', '/root/.kaggle/kaggle.json')\n",
        "\n",
        "# Set file permissions\n",
        "os.chmod('/root/.kaggle/kaggle.json', 0o600)"
      ],
      "execution_count": 3,
      "outputs": []
    },
    {
      "cell_type": "code",
      "metadata": {
        "colab": {
          "base_uri": "https://localhost:8080/"
        },
        "id": "73c59b44",
        "outputId": "487793ca-fda0-4cde-91d2-c1b8d8ed62e1"
      },
      "source": [
        "!kaggle datasets download catherinekoo/dogs-vs-cats -d kaggle_data"
      ],
      "execution_count": 4,
      "outputs": [
        {
          "output_type": "stream",
          "name": "stdout",
          "text": [
            "403 Client Error: Forbidden for url: https://www.kaggle.com/api/v1/datasets/metadata/catherinekoo/dogs-vs-cats\n"
          ]
        }
      ]
    },
    {
      "cell_type": "code",
      "metadata": {
        "colab": {
          "base_uri": "https://localhost:8080/"
        },
        "id": "8128ba55",
        "outputId": "4cab2279-c2b5-4be9-e3dd-a4512f652685"
      },
      "source": [
        "!kaggle datasets download tongpython/cat-and-dog -d kaggle_data"
      ],
      "execution_count": 5,
      "outputs": [
        {
          "output_type": "stream",
          "name": "stdout",
          "text": [
            "Dataset URL: https://www.kaggle.com/datasets/tongpython/cat-and-dog\n",
            "License(s): CC0-1.0\n",
            "Downloading cat-and-dog.zip to /content\n",
            " 61% 132M/218M [00:00<00:00, 1.38GB/s]\n",
            "100% 218M/218M [00:00<00:00, 679MB/s] \n"
          ]
        }
      ]
    },
    {
      "cell_type": "code",
      "metadata": {
        "colab": {
          "base_uri": "https://localhost:8080/",
          "height": 36
        },
        "id": "9be840c2",
        "outputId": "1548c8ae-d241-47b7-e300-bfa87483a3a3"
      },
      "source": [
        "import shutil\n",
        "import os\n",
        "\n",
        "# Create the kaggle_data directory if it doesn't exist\n",
        "if not os.path.exists('kaggle_data'):\n",
        "    os.makedirs('kaggle_data')\n",
        "\n",
        "# Move the downloaded zip file to the correct directory\n",
        "shutil.move('/content/cat-and-dog.zip', 'kaggle_data/cat-and-dog.zip')"
      ],
      "execution_count": 6,
      "outputs": [
        {
          "output_type": "execute_result",
          "data": {
            "text/plain": [
              "'kaggle_data/cat-and-dog.zip'"
            ],
            "application/vnd.google.colaboratory.intrinsic+json": {
              "type": "string"
            }
          },
          "metadata": {},
          "execution_count": 6
        }
      ]
    },
    {
      "cell_type": "code",
      "metadata": {
        "colab": {
          "base_uri": "https://localhost:8080/"
        },
        "id": "e83c6118",
        "outputId": "28c93903-bf8c-4218-95fb-2e7138da41b1"
      },
      "source": [
        "import zipfile\n",
        "import os\n",
        "\n",
        "# Specify the path to the downloaded zip file\n",
        "zip_file_path = 'kaggle_data/cat-and-dog.zip'\n",
        "\n",
        "# Specify the directory where the contents of the zip file should be extracted\n",
        "extraction_dir = 'kaggle_data/cat-and-dog'\n",
        "\n",
        "# Create the extraction directory if it doesn't exist\n",
        "if not os.path.exists(extraction_dir):\n",
        "    os.makedirs(extraction_dir)\n",
        "\n",
        "# Open the zip file and extract all contents\n",
        "with zipfile.ZipFile(zip_file_path, 'r') as zip_ref:\n",
        "    zip_ref.extractall(extraction_dir)\n",
        "\n",
        "print(f\"Dataset extracted to: {extraction_dir}\")"
      ],
      "execution_count": 7,
      "outputs": [
        {
          "output_type": "stream",
          "name": "stdout",
          "text": [
            "Dataset extracted to: kaggle_data/cat-and-dog\n"
          ]
        }
      ]
    },
    {
      "cell_type": "code",
      "metadata": {
        "colab": {
          "base_uri": "https://localhost:8080/"
        },
        "id": "0513d8b3",
        "outputId": "ce49928c-6e70-45b9-85d2-267294c16f3e"
      },
      "source": [
        "import os\n",
        "import shutil\n",
        "import random\n",
        "\n",
        "# Define paths\n",
        "dataset_dir = 'kaggle_data/cat-and-dog'\n",
        "train_dir = os.path.join(dataset_dir, 'training_set')\n",
        "test_dir = os.path.join(dataset_dir, 'test_set')\n",
        "\n",
        "# Create training and testing directories\n",
        "os.makedirs(train_dir, exist_ok=True)\n",
        "os.makedirs(test_dir, exist_ok=True)\n",
        "\n",
        "# Define paths for cat and dog subdirectories\n",
        "train_cats_dir = os.path.join(train_dir, 'cats')\n",
        "train_dogs_dir = os.path.join(train_dir, 'dogs')\n",
        "test_cats_dir = os.path.join(test_dir, 'cats')\n",
        "test_dogs_dir = os.path.join(test_dir, 'dogs')\n",
        "\n",
        "# Create cat and dog subdirectories\n",
        "os.makedirs(train_cats_dir, exist_ok=True)\n",
        "os.makedirs(train_dogs_dir, exist_ok=True)\n",
        "os.makedirs(test_cats_dir, exist_ok=True)\n",
        "os.makedirs(test_dogs_dir, exist_ok=True)\n",
        "\n",
        "# Define the original image directory within the dataset\n",
        "original_images_dir = os.path.join(dataset_dir, 'training_set', 'training_set') # The zip file structure is nested\n",
        "\n",
        "# Get list of image files\n",
        "image_files = [f for f in os.listdir(original_images_dir) if f.endswith('.jpg')]\n",
        "\n",
        "# Shuffle the files for random splitting\n",
        "random.shuffle(image_files)\n",
        "\n",
        "# Define split ratio\n",
        "split_ratio = 0.8\n",
        "\n",
        "# Calculate split index\n",
        "split_index = int(len(image_files) * split_ratio)\n",
        "\n",
        "# Split files into training and testing sets\n",
        "train_files = image_files[:split_index]\n",
        "test_files = image_files[split_index:]\n",
        "\n",
        "# Function to move files\n",
        "def move_files(file_list, destination_dir):\n",
        "    for filename in file_list:\n",
        "        src_path = os.path.join(original_images_dir, filename)\n",
        "        if 'cat' in filename:\n",
        "            dst_path = os.path.join(destination_dir, 'cats', filename)\n",
        "        elif 'dog' in filename:\n",
        "            dst_path = os.path.join(destination_dir, 'dogs', filename)\n",
        "        else:\n",
        "            continue # Skip files not named as cat or dog\n",
        "\n",
        "        # Ensure destination directory exists before moving\n",
        "        os.makedirs(os.path.dirname(dst_path), exist_ok=True)\n",
        "        shutil.move(src_path, dst_path)\n",
        "\n",
        "# Move training files\n",
        "move_files(train_files, train_dir)\n",
        "\n",
        "# Move testing files\n",
        "move_files(test_files, test_dir)\n",
        "\n",
        "print(\"Dataset organized into training and testing directories.\")"
      ],
      "execution_count": 8,
      "outputs": [
        {
          "output_type": "stream",
          "name": "stdout",
          "text": [
            "Dataset organized into training and testing directories.\n"
          ]
        }
      ]
    },
    {
      "cell_type": "code",
      "metadata": {
        "id": "39766382"
      },
      "source": [
        "import cv2\n",
        "import numpy as np\n",
        "import os\n",
        "\n",
        "def preprocess_image(image_path, target_size=(100, 100)):\n",
        "    \"\"\"\n",
        "    Reads, resizes, converts to grayscale, and flattens an image.\n",
        "\n",
        "    Args:\n",
        "        image_path (str): The path to the image file.\n",
        "        target_size (tuple): The desired size of the image (width, height).\n",
        "\n",
        "    Returns:\n",
        "        np.ndarray: A flattened numpy array representing the preprocessed image,\n",
        "                    or None if the image could not be processed.\n",
        "    \"\"\"\n",
        "    try:\n",
        "        # Read the image in grayscale\n",
        "        img = cv2.imread(image_path, cv2.IMREAD_GRAYSCALE)\n",
        "\n",
        "        # Check if image reading was successful\n",
        "        if img is None:\n",
        "            print(f\"Warning: Could not read image {image_path}\")\n",
        "            return None\n",
        "\n",
        "        # Resize the image\n",
        "        img_resized = cv2.resize(img, target_size)\n",
        "\n",
        "        # Flatten the image into a 1D array\n",
        "        img_flattened = img_resized.flatten()\n",
        "\n",
        "        return img_flattened\n",
        "    except Exception as e:\n",
        "        print(f\"Error processing image {image_path}: {e}\")\n",
        "        return None\n"
      ],
      "execution_count": 9,
      "outputs": []
    },
    {
      "cell_type": "code",
      "metadata": {
        "colab": {
          "base_uri": "https://localhost:8080/"
        },
        "id": "d175c7e4",
        "outputId": "e8b3f76f-f129-4d1d-a967-05e7a648885f"
      },
      "source": [
        "# Define paths\n",
        "dataset_dir = 'kaggle_data/cat-and-dog'\n",
        "train_dir = os.path.join(dataset_dir, 'training_set')\n",
        "test_dir = os.path.join(dataset_dir, 'test_set')\n",
        "\n",
        "# Create lists to store data and labels\n",
        "train_data = []\n",
        "train_labels = []\n",
        "test_data = []\n",
        "test_labels = []\n",
        "\n",
        "# Process training data\n",
        "print(\"Processing training data...\")\n",
        "for category in ['cats', 'dogs']:\n",
        "    category_dir = os.path.join(train_dir, category)\n",
        "    label = 0 if category == 'cats' else 1\n",
        "    for filename in os.listdir(category_dir):\n",
        "        if filename.endswith('.jpg'):\n",
        "            image_path = os.path.join(category_dir, filename)\n",
        "            processed_image = preprocess_image(image_path)\n",
        "            if processed_image is not None:\n",
        "                train_data.append(processed_image)\n",
        "                train_labels.append(label)\n",
        "\n",
        "# Process testing data\n",
        "print(\"Processing testing data...\")\n",
        "for category in ['cats', 'dogs']:\n",
        "    category_dir = os.path.join(test_dir, category)\n",
        "    label = 0 if category == 'cats' else 1\n",
        "    for filename in os.listdir(category_dir):\n",
        "        if filename.endswith('.jpg'):\n",
        "            image_path = os.path.join(category_dir, filename)\n",
        "            processed_image = preprocess_image(image_path)\n",
        "            if processed_image is not None:\n",
        "                test_data.append(processed_image)\n",
        "                test_labels.append(label)\n",
        "\n",
        "# Convert lists to NumPy arrays\n",
        "train_data = np.array(train_data)\n",
        "train_labels = np.array(train_labels)\n",
        "test_data = np.array(test_data)\n",
        "test_labels = np.array(test_labels)\n",
        "\n",
        "print(\"Image preprocessing complete.\")\n",
        "print(f\"Training data shape: {train_data.shape}\")\n",
        "print(f\"Training labels shape: {train_labels.shape}\")\n",
        "print(f\"Testing data shape: {test_data.shape}\")\n",
        "print(f\"Testing labels shape: {test_labels.shape}\")"
      ],
      "execution_count": 10,
      "outputs": [
        {
          "output_type": "stream",
          "name": "stdout",
          "text": [
            "Processing training data...\n",
            "Processing testing data...\n",
            "Image preprocessing complete.\n",
            "Training data shape: (0,)\n",
            "Training labels shape: (0,)\n",
            "Testing data shape: (0,)\n",
            "Testing labels shape: (0,)\n"
          ]
        }
      ]
    },
    {
      "cell_type": "code",
      "metadata": {
        "colab": {
          "base_uri": "https://localhost:8080/"
        },
        "id": "e4f4eb63",
        "outputId": "dedf0b8f-1257-47ca-9774-f09de57815b4"
      },
      "source": [
        "# Inspect the directory structure to confirm paths\n",
        "print(\"Training directory content:\")\n",
        "print(os.listdir(train_dir))\n",
        "print(\"\\nTesting directory content:\")\n",
        "print(os.listdir(test_dir))\n",
        "\n",
        "# Also check the content of the cat and dog subdirectories within training\n",
        "print(\"\\nTraining cats directory content (first 10):\")\n",
        "train_cats_dir_check = os.path.join(train_dir, 'cats')\n",
        "if os.path.exists(train_cats_dir_check):\n",
        "    print(os.listdir(train_cats_dir_check)[:10])\n",
        "else:\n",
        "    print(\"Training cats directory not found.\")\n",
        "\n",
        "print(\"\\nTraining dogs directory content (first 10):\")\n",
        "train_dogs_dir_check = os.path.join(train_dir, 'dogs')\n",
        "if os.path.exists(train_dogs_dir_check):\n",
        "    print(os.listdir(train_dogs_dir_check)[:10])\n",
        "else:\n",
        "    print(\"Training dogs directory not found.\")\n"
      ],
      "execution_count": 11,
      "outputs": [
        {
          "output_type": "stream",
          "name": "stdout",
          "text": [
            "Training directory content:\n",
            "['cats', 'training_set', 'dogs']\n",
            "\n",
            "Testing directory content:\n",
            "['cats', 'test_set', 'dogs']\n",
            "\n",
            "Training cats directory content (first 10):\n",
            "[]\n",
            "\n",
            "Training dogs directory content (first 10):\n",
            "[]\n"
          ]
        }
      ]
    },
    {
      "cell_type": "code",
      "metadata": {
        "colab": {
          "base_uri": "https://localhost:8080/"
        },
        "id": "19bec521",
        "outputId": "3f8b2071-a290-46d6-bdc1-21da33a10617"
      },
      "source": [
        "# Define the correct paths to the image directories based on inspection\n",
        "correct_train_dir = os.path.join(dataset_dir, 'training_set', 'training_set') # Corrected path\n",
        "correct_test_dir = os.path.join(dataset_dir, 'test_set', 'test_set')       # Corrected path\n",
        "\n",
        "\n",
        "# Re-create lists to store data and labels\n",
        "train_data = []\n",
        "train_labels = []\n",
        "test_data = []\n",
        "test_labels = []\n",
        "\n",
        "# Process training data\n",
        "print(\"Processing training data...\")\n",
        "# Assuming the cat images are in a directory named 'cats' and dog images in 'dogs' within correct_train_dir\n",
        "train_cats_path = os.path.join(correct_train_dir, 'cats')\n",
        "train_dogs_path = os.path.join(correct_train_dir, 'dogs')\n",
        "\n",
        "if os.path.exists(train_cats_path):\n",
        "    for filename in os.listdir(train_cats_path):\n",
        "        if filename.endswith('.jpg'):\n",
        "            image_path = os.path.join(train_cats_path, filename)\n",
        "            processed_image = preprocess_image(image_path)\n",
        "            if processed_image is not None:\n",
        "                train_data.append(processed_image)\n",
        "                train_labels.append(0) # 0 for cats\n",
        "else:\n",
        "    print(f\"Training cats directory not found at {train_cats_path}\")\n",
        "\n",
        "if os.path.exists(train_dogs_path):\n",
        "    for filename in os.listdir(train_dogs_path):\n",
        "        if filename.endswith('.jpg'):\n",
        "            image_path = os.path.join(train_dogs_path, filename)\n",
        "            processed_image = preprocess_image(image_path)\n",
        "            if processed_image is not None:\n",
        "                train_data.append(processed_image)\n",
        "                train_labels.append(1) # 1 for dogs\n",
        "else:\n",
        "     print(f\"Training dogs directory not found at {train_dogs_path}\")\n",
        "\n",
        "\n",
        "# Process testing data\n",
        "print(\"Processing testing data...\")\n",
        "# Assuming the cat images are in a directory named 'cats' and dog images in 'dogs' within correct_test_dir\n",
        "test_cats_path = os.path.join(correct_test_dir, 'cats')\n",
        "test_dogs_path = os.path.join(correct_test_dir, 'dogs')\n",
        "\n",
        "if os.path.exists(test_cats_path):\n",
        "    for filename in os.listdir(test_cats_path):\n",
        "        if filename.endswith('.jpg'):\n",
        "            image_path = os.path.join(test_cats_path, filename)\n",
        "            processed_image = preprocess_image(image_path)\n",
        "            if processed_image is not None:\n",
        "                test_data.append(processed_image)\n",
        "                test_labels.append(0) # 0 for cats\n",
        "else:\n",
        "    print(f\"Testing cats directory not found at {test_cats_path}\")\n",
        "\n",
        "if os.path.exists(test_dogs_path):\n",
        "    for filename in os.listdir(test_dogs_path):\n",
        "        if filename.endswith('.jpg'):\n",
        "            image_path = os.path.join(test_dogs_path, filename)\n",
        "            processed_image = preprocess_image(image_path)\n",
        "            if processed_image is not None:\n",
        "                test_data.append(processed_image)\n",
        "                test_labels.append(1) # 1 for dogs\n",
        "else:\n",
        "    print(f\"Testing dogs directory not found at {test_dogs_path}\")\n",
        "\n",
        "\n",
        "# Convert lists to NumPy arrays\n",
        "train_data = np.array(train_data)\n",
        "train_labels = np.array(train_labels)\n",
        "test_data = np.array(test_data)\n",
        "test_labels = np.array(test_labels)\n",
        "\n",
        "print(\"Image preprocessing complete.\")\n",
        "print(f\"Training data shape: {train_data.shape}\")\n",
        "print(f\"Training labels shape: {train_labels.shape}\")\n",
        "print(f\"Testing data shape: {test_data.shape}\")\n",
        "print(f\"Testing labels shape: {test_labels.shape}\")"
      ],
      "execution_count": 12,
      "outputs": [
        {
          "output_type": "stream",
          "name": "stdout",
          "text": [
            "Processing training data...\n",
            "Processing testing data...\n",
            "Image preprocessing complete.\n",
            "Training data shape: (8005, 10000)\n",
            "Training labels shape: (8005,)\n",
            "Testing data shape: (2023, 10000)\n",
            "Testing labels shape: (2023,)\n"
          ]
        }
      ]
    },
    {
      "cell_type": "code",
      "metadata": {
        "colab": {
          "base_uri": "https://localhost:8080/"
        },
        "id": "59e7d43a",
        "outputId": "94aa7e3c-13cb-4303-b282-0ccdff92b80e"
      },
      "source": [
        "from sklearn.svm import SVC\n",
        "\n",
        "# Create an instance of the SVC classifier\n",
        "# Using default parameters for now, can experiment later\n",
        "svm_model = SVC()\n",
        "\n",
        "# Train the SVM model\n",
        "print(\"Training SVM model...\")\n",
        "svm_model.fit(train_data, train_labels)\n",
        "print(\"SVM model training complete.\")"
      ],
      "execution_count": 13,
      "outputs": [
        {
          "output_type": "stream",
          "name": "stdout",
          "text": [
            "Training SVM model...\n",
            "SVM model training complete.\n"
          ]
        }
      ]
    },
    {
      "cell_type": "code",
      "metadata": {
        "colab": {
          "base_uri": "https://localhost:8080/"
        },
        "id": "2d10d184",
        "outputId": "a91965a0-833b-4929-d900-041c1312316b"
      },
      "source": [
        "from sklearn.metrics import accuracy_score, classification_report, confusion_matrix\n",
        "\n",
        "# Make predictions on the test data\n",
        "predictions = svm_model.predict(test_data)\n",
        "\n",
        "# Calculate and print accuracy\n",
        "accuracy = accuracy_score(test_labels, predictions)\n",
        "print(f\"Accuracy: {accuracy:.4f}\")\n",
        "\n",
        "# Generate and print classification report\n",
        "class_report = classification_report(test_labels, predictions)\n",
        "print(\"\\nClassification Report:\")\n",
        "print(class_report)\n",
        "\n",
        "# Generate and print confusion matrix\n",
        "conf_matrix = confusion_matrix(test_labels, predictions)\n",
        "print(\"\\nConfusion Matrix:\")\n",
        "print(conf_matrix)"
      ],
      "execution_count": 14,
      "outputs": [
        {
          "output_type": "stream",
          "name": "stdout",
          "text": [
            "Accuracy: 0.6500\n",
            "\n",
            "Classification Report:\n",
            "              precision    recall  f1-score   support\n",
            "\n",
            "           0       0.65      0.64      0.65      1011\n",
            "           1       0.65      0.66      0.65      1012\n",
            "\n",
            "    accuracy                           0.65      2023\n",
            "   macro avg       0.65      0.65      0.65      2023\n",
            "weighted avg       0.65      0.65      0.65      2023\n",
            "\n",
            "\n",
            "Confusion Matrix:\n",
            "[[644 367]\n",
            " [341 671]]\n"
          ]
        }
      ]
    }
  ]
}